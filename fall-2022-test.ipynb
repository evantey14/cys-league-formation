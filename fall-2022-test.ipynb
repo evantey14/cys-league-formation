{
 "cells": [
  {
   "cell_type": "code",
   "execution_count": null,
   "id": "25178561",
   "metadata": {},
   "outputs": [],
   "source": [
    "# This is a test of the initial files Jason gave me.\n",
    "# Mostly this will be for developing a preprocessing script to get the forms into the proper format"
   ]
  },
  {
   "cell_type": "code",
   "execution_count": null,
   "id": "c3d75850",
   "metadata": {},
   "outputs": [],
   "source": [
    "import pandas as pd\n",
    "import numpy as np"
   ]
  },
  {
   "cell_type": "code",
   "execution_count": null,
   "id": "9be02aaf",
   "metadata": {},
   "outputs": [],
   "source": [
    "division = \"Boys Grades 3-4 - Spring 2022 In-Town Soccer\""
   ]
  },
  {
   "cell_type": "code",
   "execution_count": null,
   "id": "d1cb7068",
   "metadata": {},
   "outputs": [],
   "source": [
    "\"\"\"\n",
    "Questions for Jason:\n",
    "- Do we want to try and include goalie into the balancing?\n",
    "- What fields do you want to keep for tracking purposes? (email?)\n",
    "- When missing skill, what should we assume? (average? bad?)\n",
    "- Do these players have locations (address or lat/long?)\n",
    "\"\"\"\n",
    "\n",
    "existing_players_raw = pd.read_csv(\"Spring2022-registrations.csv\")\n",
    "existing_players_raw = existing_players_raw[existing_players_raw[\"Division\"] == division]\n",
    "\n",
    "column_map = {\n",
    "    \"Player rating - Effectiveness\": \"coach_skill\",\n",
    "    \"Lastname\": \"last_name\",\n",
    "    \"Firstname\": \"first_name\",\n",
    "    \"Grade\": \"grade\",\n",
    "    \"Assigned Team\": \"team\",\n",
    "    \"School Attending\": \"school\",\n",
    "}\n",
    "existing_players = existing_players_raw.rename(columns=column_map)[column_map.values()]\n",
    "\n",
    "# Extract skill\n",
    "existing_players[\"coach_skill\"] = existing_players[\"coach_skill\"].str.extract('(\\d+)', expand=False).astype(float)\n",
    "\n",
    "\n",
    "# Freeze players to a team if they already have one\n",
    "existing_players[\"frozen\"] = True\n",
    "missing_team = pd.isnull(existing_players.team)\n",
    "existing_players.loc[missing_team, \"frozen\"] = False\n",
    "\n",
    "# Set all other columns to be empty\n",
    "# We may get info for these from another sheet?\n",
    "for column in [\"parent_skill\", \"longitude\", \"latitude\", \"preferred_days\", \"unavailable_days\", \"comment\"]:\n",
    "    existing_players[column] = np.nan\n",
    "\n",
    "print(f\"Found {len(existing_players)} existing players in division: {division}\")\n",
    "existing_players.head(15)"
   ]
  },
  {
   "cell_type": "code",
   "execution_count": null,
   "id": "48895ab7",
   "metadata": {},
   "outputs": [],
   "source": [
    "from tqdm import tqdm\n",
    "tqdm.pandas()\n",
    "\n",
    "import logging\n",
    "from geopy.geocoders import Nominatim\n",
    "from geopy.extra.rate_limiter import RateLimiter\n",
    "geolocator = Nominatim(user_agent=\"cyslf\")\n",
    "geocode = RateLimiter(geolocator.geocode, min_delay_seconds=1/2)"
   ]
  },
  {
   "cell_type": "code",
   "execution_count": null,
   "id": "2e6a8d00",
   "metadata": {},
   "outputs": [],
   "source": [
    "def lookup_location(address):\n",
    "    # If an address is poorly formed, geopy gives sad-looking warnings,\n",
    "    # so let's temporarily disable this.\n",
    "    logging.getLogger(\"geopy\").setLevel(logging.ERROR)\n",
    "    location = geocode(address)\n",
    "    logging.getLogger(\"geopy\").setLevel(logging.WARNING)\n",
    "    if location:\n",
    "        return location.latitude, location.longitude\n",
    "    else:\n",
    "        print(f\"Failed to find address: {address}\")\n",
    "        return np.nan, np.nan"
   ]
  },
  {
   "cell_type": "code",
   "execution_count": null,
   "id": "5cd24fe1",
   "metadata": {},
   "outputs": [],
   "source": [
    "new_players_raw[\"Location\"] = new_players_raw['Address'].progress_apply(lookup_location)"
   ]
  },
  {
   "cell_type": "code",
   "execution_count": null,
   "id": "54fded3f",
   "metadata": {},
   "outputs": [],
   "source": [
    "new_players_raw[\"latitude\"] = new_players_raw[\"Location\"].apply(lambda x: x[0])\n",
    "new_players_raw[\"longitude\"] = new_players_raw[\"Location\"].apply(lambda x: x[1])"
   ]
  },
  {
   "cell_type": "code",
   "execution_count": null,
   "id": "dbff9ed9",
   "metadata": {},
   "outputs": [],
   "source": [
    "new_players_raw.head()"
   ]
  },
  {
   "cell_type": "code",
   "execution_count": null,
   "id": "610dfa66",
   "metadata": {},
   "outputs": [],
   "source": [
    "\"\"\"\n",
    "- does Players Recent Team mean anything in this sheet?\n",
    "- same question of what we do if skill is missing?\n",
    "\"\"\"\n",
    "new_players_raw = pd.read_csv(\"3-4boys-sample-22registration.csv\")\n",
    "\n",
    "# Join the two school columns\n",
    "has_other_school = ~pd.isnull(new_players_raw[\"School Name other:\"])\n",
    "new_players_raw.loc[has_other_school, \"School Name\"] = new_players_raw[has_other_school][\"School Name other:\"]\n",
    "\n",
    "# Look up player latitude / longitude\n",
    "new_players_raw[\"Postal Code\"] = new_players_raw[\"Postal Code\"].astype(str)\n",
    "new_players_raw[\"Address\"] = new_players_raw[[\"Street\", \"City\", \"Region\", \"Postal Code\"]].agg(\", \".join, axis=1)\n",
    "\n",
    "\n",
    "column_map = {\n",
    "    \"Player Last Name\": \"last_name\",\n",
    "    \"Player First Name\": \"first_name\",\n",
    "    \"Current Grade\": \"grade\",\n",
    "    \"Parental assessment of player ability/athleticism:\": \"parent_skill\",\n",
    "    \"School Name\": \"school\",\n",
    "    \"Special Requests\": \"comment\",\n",
    "}\n",
    "new_players = new_players_raw.rename(columns=column_map)[column_map.values()]\n",
    "\n",
    "# Extract grade\n",
    "new_players[\"grade\"] = new_players[\"grade\"].str.extract('(\\d+)', expand=False).astype(int)\n",
    "\n",
    "# Extract skill\n",
    "new_players[\"parent_skill\"] = new_players[\"parent_skill\"].str.extract('(\\d+)', expand=False).astype(float)\n",
    "\n",
    "# Look up player latitude / longitude\n",
    "\n",
    "\n",
    "\n",
    "# Set frozen to False\n",
    "new_players[\"frozen\"] = False\n",
    "\n",
    "for column in [\"team\", \"coach_skill\", \"longitude\", \"latitude\", \"preferred_days\", \"unavailable_days\"]:\n",
    "    new_players[column] = np.nan\n",
    "\n",
    "print(f\"Found {len(new_players)} new players in division: {division}\")\n",
    "existing_players.head(15)"
   ]
  },
  {
   "cell_type": "code",
   "execution_count": null,
   "id": "a1cb5035",
   "metadata": {},
   "outputs": [],
   "source": [
    "players = pd.concat([existing_players, new_players])"
   ]
  },
  {
   "cell_type": "code",
   "execution_count": null,
   "id": "e1a18db3",
   "metadata": {},
   "outputs": [],
   "source": [
    "players"
   ]
  },
  {
   "cell_type": "code",
   "execution_count": null,
   "id": "d082aded",
   "metadata": {},
   "outputs": [],
   "source": [
    "# Random TODOs\n",
    "# - someone requested to not be on a particular team\n",
    "# - a quick fix is to say they can't practie on that day?"
   ]
  },
  {
   "cell_type": "code",
   "execution_count": null,
   "id": "8ae84331",
   "metadata": {},
   "outputs": [],
   "source": []
  }
 ],
 "metadata": {
  "kernelspec": {
   "display_name": "Python 3 (ipykernel)",
   "language": "python",
   "name": "python3"
  },
  "language_info": {
   "codemirror_mode": {
    "name": "ipython",
    "version": 3
   },
   "file_extension": ".py",
   "mimetype": "text/x-python",
   "name": "python",
   "nbconvert_exporter": "python",
   "pygments_lexer": "ipython3",
   "version": "3.10.2"
  }
 },
 "nbformat": 4,
 "nbformat_minor": 5
}
