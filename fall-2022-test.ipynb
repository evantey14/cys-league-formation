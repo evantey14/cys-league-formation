{
 "cells": [
  {
   "cell_type": "code",
   "execution_count": null,
   "id": "25178561",
   "metadata": {},
   "outputs": [],
   "source": [
    "# This is a test of the initial files Jason gave me.\n",
    "# Mostly this will be for developing a preprocessing script to get the forms into the proper format"
   ]
  },
  {
   "cell_type": "code",
   "execution_count": null,
   "id": "1a83d10a",
   "metadata": {},
   "outputs": [],
   "source": [
    "\"\"\"\n",
    "Questions for Jason:\n",
    "- Do we want to try and include goalie into the balancing?\n",
    "- What fields do you want to keep for tracking purposes? (email?)\n",
    "- When missing skill, what should we assume? (average? bad?)\n",
    "- does Players Recent Team mean anything?\n",
    "\"\"\""
   ]
  },
  {
   "cell_type": "code",
   "execution_count": null,
   "id": "c3d75850",
   "metadata": {},
   "outputs": [],
   "source": [
    "import pandas as pd\n",
    "import numpy as np\n",
    "from tqdm import tqdm\n",
    "tqdm.pandas()\n",
    "pd.set_option('display.max_rows', None)"
   ]
  },
  {
   "cell_type": "code",
   "execution_count": null,
   "id": "9be02aaf",
   "metadata": {},
   "outputs": [],
   "source": [
    "division = \"Boys Grades 3-4\"\n",
    "old_registration = \"Spring2022-registrations.csv\"\n",
    "new_registration = \"3-4boys-sample-22registration.csv\""
   ]
  },
  {
   "cell_type": "code",
   "execution_count": null,
   "id": "d1cb7068",
   "metadata": {
    "scrolled": false
   },
   "outputs": [],
   "source": [
    "# Pull team and coach score from spring 2022\n",
    "existing_players_raw = pd.read_csv(old_registration)\n",
    "# Only keep teams if the players were in the relevant division.\n",
    "# This is because a Spring 2nd-grader on Red shouldn't stay on Red, but\n",
    "# we do want to know their skill score.\n",
    "in_division = existing_players_raw[\"Division\"].str.contains(division)\n",
    "existing_players_raw.loc[~in_division, \"Assigned Team\"] = np.nan\n",
    "\n",
    "column_map = {\n",
    "    \"Player rating - Effectiveness\": \"coach_skill\",\n",
    "    \"Lastname\": \"last_name\",\n",
    "    \"Firstname\": \"first_name\",\n",
    "    \"Assigned Team\": \"team\",\n",
    "}\n",
    "existing_players = existing_players_raw.rename(columns=column_map)[column_map.values()]\n",
    "\n",
    "# Extract skill\n",
    "existing_players[\"coach_skill\"] = existing_players[\"coach_skill\"].str.extract('(\\d+)', expand=False).astype(float)\n",
    "\n",
    "# Construct name for matching to current registration.\n",
    "full_name = existing_players[\"first_name\"] + existing_players[\"last_name\"]\n",
    "normalized_name = full_name.str.lower().str.replace('[^a-zA-Z]', '', regex=True)\n",
    "existing_players[\"name_key\"] = normalized_name\n",
    "existing_players = (\n",
    "    existing_players\n",
    "    .drop(columns=[\"first_name\", \"last_name\"])\n",
    "    # there seemed to be duplicate rows (with missing skill scores) so \n",
    "    # let's take the highest score for each name. Note this assumes\n",
    "    # that kids have unique name keys\n",
    "    .sort_values(by=\"coach_skill\")\n",
    "    .drop_duplicates(\"name_key\")\n",
    ")\n",
    "\n",
    "print(f\"Loaded {len(existing_players)} existing players for skill/team lookup.\")\n",
    "print(f\"{in_division.sum()} were found in division: {division}\")\n",
    "existing_players.head(15)"
   ]
  },
  {
   "cell_type": "code",
   "execution_count": null,
   "id": "48895ab7",
   "metadata": {},
   "outputs": [],
   "source": [
    "# Prepare location finding\n",
    "import logging\n",
    "from geopy.geocoders import Nominatim\n",
    "from geopy.extra.rate_limiter import RateLimiter\n",
    "geolocator = Nominatim(user_agent=\"cyslf\")\n",
    "geocode = RateLimiter(geolocator.geocode, min_delay_seconds=1/2)\n",
    "\n",
    "def lookup_location(address):\n",
    "    # If an address is poorly formed, geopy gives sad-looking warnings,\n",
    "    # so let's temporarily disable this.\n",
    "    logging.getLogger(\"geopy\").setLevel(logging.ERROR)\n",
    "    location = geocode(address)\n",
    "    logging.getLogger(\"geopy\").setLevel(logging.WARNING)\n",
    "    if location:\n",
    "        return location.latitude, location.longitude\n",
    "    else:\n",
    "        print(f\"Failed to find address: {address}\")\n",
    "        return np.nan, np.nan"
   ]
  },
  {
   "cell_type": "code",
   "execution_count": null,
   "id": "7fb6f735",
   "metadata": {},
   "outputs": [],
   "source": [
    "# Load current registrations\n",
    "\n",
    "registrations_raw = pd.read_csv(new_registration)\n",
    "\n",
    "# Join the two school columns\n",
    "has_other_school = ~pd.isnull(registrations_raw[\"School Name other:\"])\n",
    "registrations_raw.loc[has_other_school, \"School Name\"] = registrations_raw[has_other_school][\"School Name other:\"]\n",
    "\n",
    "# Look up player latitude / longitude\n",
    "registrations_raw[\"Postal Code\"] = registrations_raw[\"Postal Code\"].astype(str)\n",
    "registrations_raw[\"Address\"] = registrations_raw[[\"Street\", \"City\", \"Region\", \"Postal Code\"]].agg(\", \".join, axis=1)\n",
    "registrations_raw[\"Location\"] = registrations_raw['Address'].progress_apply(lookup_location)\n",
    "registrations_raw[\"latitude\"] = registrations_raw[\"Location\"].apply(lambda x: x[0])\n",
    "registrations_raw[\"longitude\"] = registrations_raw[\"Location\"].apply(lambda x: x[1])"
   ]
  },
  {
   "cell_type": "code",
   "execution_count": null,
   "id": "610dfa66",
   "metadata": {},
   "outputs": [],
   "source": [
    "column_map = {\n",
    "    \"Player Last Name\": \"last_name\",\n",
    "    \"Player First Name\": \"first_name\",\n",
    "    \"Current Grade\": \"grade\",\n",
    "    \"Parental assessment of player ability/athleticism:\": \"parent_skill\",\n",
    "    \"School Name\": \"school\",\n",
    "    \"Special Requests\": \"comment\",\n",
    "    \"longitude\": \"longitude\",\n",
    "    \"latitude\": \"latitude\",\n",
    "    \"Teammate Request\": \"requested_teammate\",\n",
    "}\n",
    "registrations = registrations_raw.rename(columns=column_map)[column_map.values()]\n",
    "\n",
    "# Extract grade\n",
    "registrations[\"grade\"] = registrations[\"grade\"].str.extract('(\\d+)', expand=False).astype(int)\n",
    "\n",
    "# Extract skill\n",
    "registrations[\"parent_skill\"] = registrations[\"parent_skill\"].str.extract('(\\d+)', expand=False).astype(float)\n",
    "registrations[\"parent_skill\"] = 11 - registrations[\"parent_skill\"] # These have the opposite order of coach skill, so invert.\n",
    "\n",
    "# Construct name for matching to current registration.\n",
    "full_name = registrations[\"first_name\"] + registrations[\"last_name\"]\n",
    "normalized_name = full_name.str.lower().str.replace('[^a-zA-Z]', '', regex=True)\n",
    "registrations[\"name_key\"] = normalized_name\n",
    "\n",
    "print(f\"Found {len(registrations)} registrations in division: {division}\")\n",
    "registrations.head(5)"
   ]
  },
  {
   "cell_type": "code",
   "execution_count": null,
   "id": "ae6c219d",
   "metadata": {},
   "outputs": [],
   "source": [
    "existing_player_match = registrations[\"name_key\"].isin(existing_players[\"name_key\"])\n",
    "print(f\"{existing_player_match.sum()} out of {len(registrations)} players were matched to existing player data.\")\n",
    "print(\"The following players were NOT matched:\")\n",
    "registrations[~existing_player_match].head(20)"
   ]
  },
  {
   "cell_type": "code",
   "execution_count": null,
   "id": "030cfad7",
   "metadata": {},
   "outputs": [],
   "source": [
    "ordered_columns = [\n",
    "    \"id\",\n",
    "    \"last_name\",\n",
    "    \"first_name\",\n",
    "    \"grade\",\n",
    "    \"team\",\n",
    "    \"coach_skill\",\n",
    "    \"parent_skill\",\n",
    "    \"longitude\",\n",
    "    \"latitude\",\n",
    "    \"preferred_days\",\n",
    "    \"unavailable_days\",\n",
    "    \"frozen\",\n",
    "    \"school\",\n",
    "    \"comment\",\n",
    "]\n",
    "players = registrations.merge(existing_players, how=\"left\", on=\"name_key\")\n",
    "players[\"id\"] = players.index.values\n",
    "\n",
    "# Freeze players to a team if they already have one\n",
    "players[\"frozen\"] = True\n",
    "missing_team = pd.isnull(players.team)\n",
    "players.loc[missing_team, \"frozen\"] = False\n",
    "\n",
    "for col in ordered_columns:\n",
    "    if col not in players.columns:\n",
    "        players[col] = np.nan\n",
    "\n",
    "players = players[ordered_columns]\n",
    "\n",
    "print(f\"Total # of players: {len(players)}\")\n",
    "players.head()"
   ]
  },
  {
   "cell_type": "code",
   "execution_count": null,
   "id": "e1a18db3",
   "metadata": {},
   "outputs": [],
   "source": [
    "print(\"Verification checks:\")\n",
    "\n",
    "full_name = players[\"first_name\"] + players[\"last_name\"]\n",
    "normalized_name = full_name.str.lower().str.replace('[^a-zA-Z]', '', regex=True)\n",
    "name_counts = normalized_name.value_counts()\n",
    "duplicate_names = name_counts[name_counts > 1].index.values\n",
    "has_duplicate = normalized_name.isin(duplicate_names)\n",
    "if has_duplicate.sum() > 0:\n",
    "    print(f\"{has_duplicate.sum()} rows have names that match other rows, so please check if they're duplicates:\")\n",
    "    print(players[has_duplicate].sort_values(by=\"last_name\")[[\"id\", \"first_name\", \"last_name\"]])\n",
    "\n",
    "missing_last_name = pd.isnull(players.last_name)\n",
    "if missing_last_name.sum() > 0:\n",
    "    print(f\"{missing_last_name.sum()} players are missing a last name:\")\n",
    "    print(players[missing_last_name][[\"id\", \"first_name\", \"last_name\"]])\n",
    "    print()\n",
    "\n",
    "missing_first_name = pd.isnull(players.first_name)\n",
    "if missing_first_name.sum() > 0:\n",
    "    print(f\"{missing_first_name.sum()} players are missing a first name:\")\n",
    "    print(players[missing_first_name][[\"id\", \"first_name\", \"last_name\"]])\n",
    "    print()\n",
    "\n",
    "missing_grade = pd.isnull(players.grade)\n",
    "if missing_grade.sum() > 0:\n",
    "    print(f\"{missing_grade.sum()} players are missing a grade:\")\n",
    "    print(players[missing_grade][[\"id\", \"first_name\", \"last_name\", \"grade\"]])\n",
    "    print()\n",
    "\n",
    "missing_skill = pd.isnull(players.coach_skill) & pd.isnull(players.parent_skill)\n",
    "if missing_skill.sum() > 0:\n",
    "    print(f\"{missing_skill.sum()} players don't have a coach or parent skill:\")\n",
    "    print(players[missing_skill][[\"id\", \"first_name\", \"last_name\", \"coach_skill\", \"parent_skill\"]])\n",
    "    print()\n",
    "    \n",
    "    # For testing let's give them the worst score\n",
    "    # I should ask Jason about this though\n",
    "    players.loc[missing_skill, \"parent_skill\"] = 10\n",
    "    \n",
    "print()\n",
    "print(\"Please manually fix any listed problems before the next step^\")"
   ]
  },
  {
   "cell_type": "code",
   "execution_count": null,
   "id": "1721a897",
   "metadata": {},
   "outputs": [],
   "source": [
    "player_outfile = \"fall-2022-players.csv\"\n",
    "print(f\"Saving to {player_outfile}\")\n",
    "players.to_csv(player_outfile, index=False)"
   ]
  },
  {
   "cell_type": "markdown",
   "id": "71188f1f",
   "metadata": {},
   "source": [
    "# TEAM"
   ]
  },
  {
   "cell_type": "code",
   "execution_count": null,
   "id": "6b57c721",
   "metadata": {},
   "outputs": [],
   "source": [
    "team_names = players.team.dropna().unique()\n",
    "locations = [\n",
    "    (42.38980588, -71.1330116),\n",
    "    (42.37292539, -71.083611),\n",
    "    (42.37685248, -71.12084011),\n",
    "]\n",
    "team_records = []\n",
    "for i, team_name in enumerate(team_names):\n",
    "    location = locations[i % len(locations)]\n",
    "    team_records.append({\n",
    "        \"name\": team_name,\n",
    "        \"practice_day\": \"M\",\n",
    "        \"latitude\": location[0],\n",
    "        \"longitude\": location[1],\n",
    "    })\n",
    "teams = pd.DataFrame.from_records(team_records)\n",
    "teams"
   ]
  },
  {
   "cell_type": "code",
   "execution_count": null,
   "id": "527cc0d9",
   "metadata": {},
   "outputs": [],
   "source": [
    "team_outfile = \"fall-2022-teams.csv\"\n",
    "print(f\"Saving to {team_outfile}\")\n",
    "teams.to_csv(team_outfile, index=False)"
   ]
  },
  {
   "cell_type": "markdown",
   "id": "0dcf2af6",
   "metadata": {},
   "source": [
    "# Assign teams"
   ]
  },
  {
   "cell_type": "code",
   "execution_count": null,
   "id": "4b1fc7cf",
   "metadata": {},
   "outputs": [],
   "source": [
    "from tqdm import tqdm\n",
    "import configparser\n",
    "from cyslf.models import League\n",
    "from cyslf.optimize import find_best_moves\n",
    "\n",
    "input_stem = \"fall-2022\"\n",
    "output_stem = \"fall-2022-out\"\n",
    "config_file = \"weights.cfg\"\n",
    "\n",
    "league = League.from_csvs(\n",
    "    f\"{input_stem}-players.csv\", f\"{input_stem}-teams.csv\"\n",
    ")\n",
    "\n",
    "weights = None\n",
    "if config_file is not None:\n",
    "    config = configparser.ConfigParser()\n",
    "    config.read(config_file)\n",
    "    weights = {}\n",
    "    for key in config[\"weights\"].keys():\n",
    "        weights[key] = float(config[\"weights\"][key])\n",
    "\n",
    "for i in tqdm(range(len(league.available_players))):\n",
    "    player = league.get_next_player()\n",
    "    best_moves = find_best_moves(player, league, depth=2, weights=weights)\n",
    "    league.apply_moves(best_moves)\n",
    "league.details()\n",
    "\n",
    "# TODO: add override check\n",
    "league.to_csvs(f\"{output_stem}-players.csv\", f\"{output_stem}-teams.csv\")"
   ]
  }
 ],
 "metadata": {
  "kernelspec": {
   "display_name": "Python 3 (ipykernel)",
   "language": "python",
   "name": "python3"
  },
  "language_info": {
   "codemirror_mode": {
    "name": "ipython",
    "version": 3
   },
   "file_extension": ".py",
   "mimetype": "text/x-python",
   "name": "python",
   "nbconvert_exporter": "python",
   "pygments_lexer": "ipython3",
   "version": "3.10.4"
  }
 },
 "nbformat": 4,
 "nbformat_minor": 5
}
