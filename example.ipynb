{
 "cells": [
  {
   "cell_type": "code",
   "execution_count": 1,
   "id": "07fc2c41",
   "metadata": {},
   "outputs": [],
   "source": [
    "from tqdm import tqdm\n",
    "\n",
    "from cyslf.models import League\n",
    "from cyslf.optimize import find_best_moves\n",
    "\n",
    "%load_ext autoreload\n",
    "%autoreload 2"
   ]
  },
  {
   "cell_type": "code",
   "execution_count": 2,
   "id": "c1353489",
   "metadata": {},
   "outputs": [],
   "source": [
    "league = League.from_csvs(\"example-players.csv\", \"example-teams.csv\")"
   ]
  },
  {
   "cell_type": "code",
   "execution_count": 3,
   "id": "6c127c99",
   "metadata": {},
   "outputs": [
    {
     "data": {
      "text/plain": [
       "18 Teams:\n",
       "Team Argentina   (F size=1, skill=1.00, grade=4.00)\n",
       "Team Belgium     (R size=0, skill=0.00, grade=0.00)\n",
       "Team Brazil      (F size=0, skill=0.00, grade=0.00)\n",
       "Team England     (W size=0, skill=0.00, grade=0.00)\n",
       "Team Eritrea     (W size=0, skill=0.00, grade=0.00)\n",
       "Team Ethiopia    (M size=0, skill=0.00, grade=0.00)\n",
       "Team Germany     (T size=0, skill=0.00, grade=0.00)\n",
       "Team Ireland     (M size=0, skill=0.00, grade=0.00)\n",
       "Team Italy       (M size=0, skill=0.00, grade=0.00)\n",
       "Team Ivory Coast (M size=0, skill=0.00, grade=0.00)\n",
       "Team Japan       (R size=0, skill=0.00, grade=0.00)\n",
       "Team Korea       (F size=0, skill=0.00, grade=0.00)\n",
       "Team Mexico      (W size=0, skill=0.00, grade=0.00)\n",
       "Team Netherlands (R size=0, skill=0.00, grade=0.00)\n",
       "Team Portugal    (T size=0, skill=0.00, grade=0.00)\n",
       "Team Spain       (T size=0, skill=0.00, grade=0.00)\n",
       "Team USA         (R size=0, skill=0.00, grade=0.00)\n",
       "Team Uruguay     (W size=0, skill=0.00, grade=0.00)\n",
       "245 players available for assignment"
      ]
     },
     "execution_count": 3,
     "metadata": {},
     "output_type": "execute_result"
    }
   ],
   "source": [
    "league"
   ]
  },
  {
   "cell_type": "code",
   "execution_count": 4,
   "id": "66312250",
   "metadata": {},
   "outputs": [
    {
     "name": "stderr",
     "output_type": "stream",
     "text": [
      "100%|██████████████████████████████████████████████████| 246/246 [00:00<00:00, 699.69it/s]\n"
     ]
    }
   ],
   "source": [
    "league.reset_league()\n",
    "\n",
    "weights = {\n",
    "    \"skill\": 30,\n",
    "    \"grade\": 0.2,\n",
    "    \"size\": 0.2,\n",
    "    \"location\": 0.2,\n",
    "    \"practice_day\": 0.2,\n",
    "    \"elite\": 0.2,\n",
    "}\n",
    "\n",
    "for i in tqdm(range(len(league.players))):\n",
    "    player = league.get_next_player()\n",
    "    best_moves = find_best_moves(\n",
    "        player,\n",
    "        league,\n",
    "        depth=1,\n",
    "        weights=weights\n",
    "    )\n",
    "    league.apply_moves(best_moves)"
   ]
  },
  {
   "cell_type": "code",
   "execution_count": 5,
   "id": "07c15afb",
   "metadata": {},
   "outputs": [
    {
     "name": "stdout",
     "output_type": "stream",
     "text": [
      "   skill_score  grade_score  size_score  location_score  practice_day_score  \\\n",
      "0          1.0          1.0       0.982           0.978               0.451   \n",
      "\n",
      "   elite_score  \n",
      "0        0.932  \n",
      "           name practice_day  size  first_round_picks  mean_skill  mean_grade\n",
      "0     Argentina            F    15                  2       3.133       3.400\n",
      "1       Belgium            R    10                  1       3.100       3.500\n",
      "2        Brazil            F    14                  2       3.214       3.429\n",
      "3       England            W    15                  2       3.133       3.467\n",
      "4       Eritrea            W    15                  2       3.133       3.400\n",
      "5      Ethiopia            M    11                  1       3.273       3.273\n",
      "6       Germany            T    11                  1       3.273       3.455\n",
      "7       Ireland            M    14                  2       3.286       3.357\n",
      "8         Italy            M    14                  2       3.286       3.357\n",
      "9   Ivory Coast            M    15                  2       3.133       3.400\n",
      "10        Japan            R    15                  2       3.133       3.400\n",
      "11        Korea            F    11                  1       3.273       3.455\n",
      "12       Mexico            W    15                  2       3.133       3.400\n",
      "13  Netherlands            R    11                  1       3.273       3.273\n",
      "14     Portugal            T    15                  2       3.133       3.400\n",
      "15        Spain            T    15                  2       3.200       3.400\n",
      "16          USA            R    15                  2       3.200       3.533\n",
      "17      Uruguay            W    15                  2       3.133       3.400\n"
     ]
    }
   ],
   "source": [
    "league.details()"
   ]
  },
  {
   "cell_type": "code",
   "execution_count": 6,
   "id": "eafd9301",
   "metadata": {},
   "outputs": [
    {
     "name": "stdout",
     "output_type": "stream",
     "text": [
      "Saving player information to output-players.csv\n",
      "Saving team information to output-teams.csv\n"
     ]
    }
   ],
   "source": [
    "league.to_csvs(\"output-players.csv\", \"output-teams.csv\")"
   ]
  }
 ],
 "metadata": {
  "kernelspec": {
   "display_name": "Python 3 (ipykernel)",
   "language": "python",
   "name": "python3"
  },
  "language_info": {
   "codemirror_mode": {
    "name": "ipython",
    "version": 3
   },
   "file_extension": ".py",
   "mimetype": "text/x-python",
   "name": "python",
   "nbconvert_exporter": "python",
   "pygments_lexer": "ipython3",
   "version": "3.10.4"
  }
 },
 "nbformat": 4,
 "nbformat_minor": 5
}
