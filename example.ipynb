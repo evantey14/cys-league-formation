{
 "cells": [
  {
   "cell_type": "code",
   "execution_count": 1,
   "id": "07fc2c41",
   "metadata": {},
   "outputs": [],
   "source": [
    "from tqdm import tqdm\n",
    "\n",
    "from cyslf.models import League\n",
    "from cyslf.optimize import find_best_moves\n",
    "from cyslf.scorers import score_league\n",
    "\n",
    "%load_ext autoreload\n",
    "%autoreload 2"
   ]
  },
  {
   "cell_type": "code",
   "execution_count": 2,
   "id": "c1353489",
   "metadata": {},
   "outputs": [],
   "source": [
    "league = League.from_csvs(\"example - example-players.csv\", \"example - example-teams.csv\")"
   ]
  },
  {
   "cell_type": "code",
   "execution_count": 3,
   "id": "6c127c99",
   "metadata": {},
   "outputs": [
    {
     "data": {
      "text/plain": [
       "18 Teams:\n",
       "Team Argentina   (F size=0, skill=0.00, grade=0.00)\n",
       "Team Belgium     (R size=0, skill=0.00, grade=0.00)\n",
       "Team Brazil      (F size=0, skill=0.00, grade=0.00)\n",
       "Team England     (W size=0, skill=0.00, grade=0.00)\n",
       "Team Eritrea     (W size=0, skill=0.00, grade=0.00)\n",
       "Team Ethiopia    (M size=0, skill=0.00, grade=0.00)\n",
       "Team Germany     (T size=0, skill=0.00, grade=0.00)\n",
       "Team Ireland     (M size=0, skill=0.00, grade=0.00)\n",
       "Team Italy       (M size=0, skill=0.00, grade=0.00)\n",
       "Team Ivory Coast (M size=0, skill=0.00, grade=0.00)\n",
       "Team Japan       (R size=0, skill=0.00, grade=0.00)\n",
       "Team Korea       (F size=0, skill=0.00, grade=0.00)\n",
       "Team Mexico      (W size=0, skill=0.00, grade=0.00)\n",
       "Team Netherlands (R size=0, skill=0.00, grade=0.00)\n",
       "Team Portugal    (T size=0, skill=0.00, grade=0.00)\n",
       "Team Spain       (T size=0, skill=0.00, grade=0.00)\n",
       "Team USA         (R size=0, skill=0.00, grade=0.00)\n",
       "Team Uruguay     (W size=0, skill=0.00, grade=0.00)\n",
       "246 players available for assignment"
      ]
     },
     "execution_count": 3,
     "metadata": {},
     "output_type": "execute_result"
    }
   ],
   "source": [
    "league"
   ]
  },
  {
   "cell_type": "code",
   "execution_count": 4,
   "id": "66312250",
   "metadata": {},
   "outputs": [
    {
     "name": "stderr",
     "output_type": "stream",
     "text": [
      "100%|█████████████████████████████████| 246/246 [00:57<00:00,  4.27it/s]\n"
     ]
    }
   ],
   "source": [
    "league.reset_league()\n",
    "\n",
    "weights = {\n",
    "    \"skill\": 0.5,\n",
    "    \"grade\": 0.2,\n",
    "    \"size\": 0.2,\n",
    "    \"convenience\": 0.1,\n",
    "}\n",
    "\n",
    "for _ in tqdm(range(len(league.players))):\n",
    "    player = league.get_next_player()\n",
    "    best_moves = find_best_moves(player, league, depth=2, weights=weights)\n",
    "    league.apply_moves(best_moves)"
   ]
  },
  {
   "cell_type": "code",
   "execution_count": 6,
   "id": "fd06f3d4",
   "metadata": {},
   "outputs": [
    {
     "name": "stdout",
     "output_type": "stream",
     "text": [
      "1.000 1.000 0.999 0.984  ['skill', 'grade', 'size', 'convenience']\n"
     ]
    },
    {
     "data": {
      "text/plain": [
       "0.9980324766604171"
      ]
     },
     "execution_count": 6,
     "metadata": {},
     "output_type": "execute_result"
    }
   ],
   "source": [
    "score_league(league, weights=weights, verbose=True)"
   ]
  },
  {
   "cell_type": "code",
   "execution_count": 7,
   "id": "6ae58b03",
   "metadata": {},
   "outputs": [
    {
     "data": {
      "text/plain": [
       "18 Teams:\n",
       "Team Argentina   (F size=14, skill=3.14, grade=3.36)\n",
       "Team Belgium     (R size=14, skill=3.14, grade=3.43)\n",
       "Team Brazil      (F size=13, skill=3.23, grade=3.38)\n",
       "Team England     (W size=13, skill=3.23, grade=3.38)\n",
       "Team Eritrea     (W size=14, skill=3.21, grade=3.43)\n",
       "Team Ethiopia    (M size=14, skill=3.21, grade=3.43)\n",
       "Team Germany     (T size=14, skill=3.14, grade=3.43)\n",
       "Team Ireland     (M size=14, skill=3.21, grade=3.43)\n",
       "Team Italy       (M size=13, skill=3.23, grade=3.38)\n",
       "Team Ivory Coast (M size=13, skill=3.15, grade=3.38)\n",
       "Team Japan       (R size=13, skill=3.23, grade=3.38)\n",
       "Team Korea       (F size=14, skill=3.14, grade=3.43)\n",
       "Team Mexico      (W size=14, skill=3.21, grade=3.36)\n",
       "Team Netherlands (R size=14, skill=3.21, grade=3.43)\n",
       "Team Portugal    (T size=14, skill=3.14, grade=3.43)\n",
       "Team Spain       (T size=14, skill=3.21, grade=3.43)\n",
       "Team USA         (R size=13, skill=3.15, grade=3.46)\n",
       "Team Uruguay     (W size=14, skill=3.14, grade=3.36)\n",
       "0 players available for assignment"
      ]
     },
     "execution_count": 7,
     "metadata": {},
     "output_type": "execute_result"
    }
   ],
   "source": [
    "league"
   ]
  }
 ],
 "metadata": {
  "kernelspec": {
   "display_name": "Python 3 (ipykernel)",
   "language": "python",
   "name": "python3"
  },
  "language_info": {
   "codemirror_mode": {
    "name": "ipython",
    "version": 3
   },
   "file_extension": ".py",
   "mimetype": "text/x-python",
   "name": "python",
   "nbconvert_exporter": "python",
   "pygments_lexer": "ipython3",
   "version": "3.10.4"
  }
 },
 "nbformat": 4,
 "nbformat_minor": 5
}
