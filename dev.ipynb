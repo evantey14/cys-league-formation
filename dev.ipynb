{
 "cells": [
  {
   "cell_type": "code",
   "execution_count": null,
   "id": "42056cf0",
   "metadata": {},
   "outputs": [],
   "source": [
    "from dataclasses import asdict, dataclass\n",
    "import random\n",
    "from typing import List, Tuple\n",
    "\n",
    "import pandas as pd\n",
    "import numpy as np\n",
    "import matplotlib.pyplot as plt\n",
    "from tqdm import tqdm\n",
    "\n",
    "from cyslf.constraints import breaks_constraints\n",
    "from cyslf.optimize import find_best_moves\n",
    "from cyslf.models import Player, Team, League\n",
    "from cyslf.scorers import *\n",
    "from cyslf.utils import practice_fields, max_distance\n",
    "\n",
    "%load_ext autoreload\n",
    "%autoreload 2\n",
    "%load_ext line_profiler"
   ]
  },
  {
   "cell_type": "code",
   "execution_count": null,
   "id": "21ad4d9b",
   "metadata": {
    "scrolled": false
   },
   "outputs": [],
   "source": [
    "league = League.from_csvs(\"example - example-players.csv\", \"example - example-teams.csv\")\n",
    "league"
   ]
  },
  {
   "cell_type": "code",
   "execution_count": null,
   "id": "0418442f",
   "metadata": {},
   "outputs": [],
   "source": [
    "league.reset_league()\n",
    "\n",
    "for i in tqdm(range(100)):\n",
    "    player = league.get_next_player()\n",
    "    best_moves = find_best_moves(player, league, depth=1)\n",
    "    league.apply_moves(best_moves)"
   ]
  },
  {
   "cell_type": "code",
   "execution_count": null,
   "id": "b28f9765",
   "metadata": {},
   "outputs": [],
   "source": [
    "player = league.get_next_player()\n",
    "%lprun -f score_grade find_best_moves(player, league, depth=3)"
   ]
  },
  {
   "cell_type": "code",
   "execution_count": null,
   "id": "11ccb74d",
   "metadata": {},
   "outputs": [],
   "source": [
    "league"
   ]
  },
  {
   "cell_type": "code",
   "execution_count": null,
   "id": "416ca85c",
   "metadata": {
    "scrolled": true
   },
   "outputs": [],
   "source": [
    "# l.to_csvs(\"test_players_out.csv\", \"test_teams_out.csv\")"
   ]
  }
 ],
 "metadata": {
  "kernelspec": {
   "display_name": "Python 3 (ipykernel)",
   "language": "python",
   "name": "python3"
  },
  "language_info": {
   "codemirror_mode": {
    "name": "ipython",
    "version": 3
   },
   "file_extension": ".py",
   "mimetype": "text/x-python",
   "name": "python",
   "nbconvert_exporter": "python",
   "pygments_lexer": "ipython3",
   "version": "3.10.4"
  }
 },
 "nbformat": 4,
 "nbformat_minor": 5
}
