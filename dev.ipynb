{
 "cells": [
  {
   "cell_type": "code",
   "execution_count": null,
   "id": "42056cf0",
   "metadata": {},
   "outputs": [],
   "source": [
    "from dataclasses import dataclass\n",
    "import random\n",
    "from typing import List, Tuple\n",
    "\n",
    "import pandas as pd\n",
    "import numpy as np\n",
    "import matplotlib.pyplot as plt\n",
    "\n",
    "from cyslf.optimize import optimize_player_assignment\n",
    "from cyslf.models import Player, Team, League\n",
    "from cyslf.scorers import *\n",
    "from cyslf.utils import practice_fields, max_distance\n",
    "\n",
    "%load_ext autoreload\n",
    "%autoreload 2"
   ]
  },
  {
   "cell_type": "code",
   "execution_count": null,
   "id": "c8893acd",
   "metadata": {},
   "outputs": [],
   "source": [
    "def get_distance(p1, p2):\n",
    "    return ((p2[0]-p1[0])**2 + (p2[1]-p1[1])**2)**0.5\n",
    "\n",
    "practice_fields = [\n",
    "    (42.38980588369338, -71.13301159861518), # danehy\n",
    "    (42.37292538868882, -71.08361099742957), # gsm\n",
    "    (42.376852476244125, -71.12084010564928), # common\n",
    "]\n",
    "\n",
    "# Find the mean location (for generating fake player data)\n",
    "lats, longs = list(zip(*practice_fields))\n",
    "mean_lat = np.mean(lats)\n",
    "mean_long = np.mean(longs)\n",
    "print(mean_lat, mean_long)"
   ]
  },
  {
   "cell_type": "code",
   "execution_count": null,
   "id": "08878f80",
   "metadata": {
    "scrolled": true
   },
   "outputs": [],
   "source": [
    "# SET UP LEAGUE WITH TOY DATA\n",
    "random.seed(5)\n",
    "\n",
    "WEEKDAYS = [\"M\", \"T\", \"W\", \"R\", \"F\"]\n",
    "\n",
    "players = []\n",
    "for i, letter in enumerate(\"ABCDEFGHIJKLMNOPQ\"):\n",
    "    grade = random.randint(4, 5)\n",
    "    skill = random.randint(1, 5) if i != 0 else 10\n",
    "    location = random.gauss(mean_lat, max_distance/5), random.gauss(mean_long, max_distance/5)\n",
    "    players.append(Player(\n",
    "        id=i,\n",
    "        first_name=letter,\n",
    "        last_name=letter,\n",
    "        grade=grade,\n",
    "        skill=skill,\n",
    "        unavailable_days=random.choice(WEEKDAYS),\n",
    "        location=location,\n",
    "    ))\n",
    "\n",
    "teams=[]\n",
    "for i in range(1, 6):\n",
    "    location = practice_fields[(i-1) % len(practice_fields)]\n",
    "    teams.append(Team(name=str(i), practice_day=WEEKDAYS[i-1], location=location))    \n",
    "\n",
    "# ASSIGN PlAYERS TO TEAMS    \n",
    "league = League(teams=teams)\n",
    "for i, player in enumerate(players[:-2]):\n",
    "    # Optimized assignment\n",
    "    optimize_player_assignment(player, league)\n",
    "    print(\n",
    "        f\"~~~ {score_skill(league):.2f} \"\n",
    "        f\"{score_grade(league):.2f} \"\n",
    "        f\"{score_size(league):.2f} \"\n",
    "        f\"{score_convenience(league):.2f} ~~~\"\n",
    "    )\n",
    "\n",
    "\n",
    "# SHOW RESULTS\n",
    "print(league)\n",
    "for team in league.teams:\n",
    "    if len(team.players) == 0:\n",
    "        continue\n",
    "    lats, longs = list(zip(*[p.location for p in team.players]))\n",
    "    plt.scatter(lats, longs, s=25, label=team.name)\n",
    "    \n",
    "field_lats, field_longs = list(zip(*practice_fields))\n",
    "plt.scatter(field_lats, field_longs, color=\"k\", s=50)\n",
    "plt.legend()"
   ]
  },
  {
   "cell_type": "code",
   "execution_count": null,
   "id": "3d50e995",
   "metadata": {},
   "outputs": [],
   "source": [
    "# reg_data = pd.read_csv(\"input - exampleRegistrationData.csv\")\n",
    "# print(reg_data.shape)\n",
    "# reg_data.head()"
   ]
  },
  {
   "cell_type": "code",
   "execution_count": null,
   "id": "4cf31bf7",
   "metadata": {},
   "outputs": [],
   "source": [
    "# parent_requests = pd.read_csv(\"input - exampleParentRequests.csv\")\n",
    "# print(parent_requests.shape)\n",
    "# parent_requests.head()"
   ]
  },
  {
   "cell_type": "code",
   "execution_count": null,
   "id": "5dcb9768",
   "metadata": {},
   "outputs": [],
   "source": [
    "# player_data = reg_data.merge(\n",
    "#     parent_requests,\n",
    "#     how=\"left\",\n",
    "#     left_on=\"Lastname\",\n",
    "#     right_on=\"Player Last Name\"\n",
    "# )\n",
    "# # Names seem borked. I'll pretend I can join on last name,\n",
    "# # but IRL this doesn't work. Ideally the input is a single\n",
    "# # csv with some constraints?\n",
    "# player_data.head()"
   ]
  },
  {
   "cell_type": "code",
   "execution_count": null,
   "id": "02558362",
   "metadata": {},
   "outputs": [],
   "source": [
    "# print(player_data.Assessment.value_counts())\n",
    "# print()\n",
    "# print(player_data.Grade.value_counts())"
   ]
  },
  {
   "cell_type": "code",
   "execution_count": null,
   "id": "ff4422ac",
   "metadata": {},
   "outputs": [],
   "source": [
    "# SET UP LEAGUE WITH REAL DATA\n",
    "# # Set up players\n",
    "# players = []\n",
    "# for i, row in player_data.iterrows():\n",
    "#     skill = row.Assessment\n",
    "#     if pd.isna(skill) or not skill[0].isdigit():\n",
    "#         continue\n",
    "#         # Ignore blank, Premier, Kick Start (ask Jason later)\n",
    "#     p = Player(\n",
    "#         id=i,\n",
    "#         first_name=row.Firstname,\n",
    "#         last_name=row.Lastname,\n",
    "#         grade=row.Grade,\n",
    "#         skill=int(skill[0]),\n",
    "#     )\n",
    "#     players.append(p)\n",
    "# players = sorted(players, key=lambda p: p.skill)\n",
    "\n",
    "# # Set up teams\n",
    "# teams = []\n",
    "# for name in player_data[\"Assigned Team\"].unique():\n",
    "#     if pd.isnull(name):\n",
    "#         continue\n",
    "#     teams.append(Team(name))\n",
    "# teams = sorted(teams, key=lambda t: t.name)\n",
    "# print(teams)\n",
    "\n",
    "# for i, player in enumerate(players):\n",
    "#     teams = assign_player(player, teams)\n",
    "#     best_team = None\n",
    "#     best_score = 0\n",
    "#     teams[i % len(teams)].add_player(player)\n",
    "#     print(get_skill_score(teams))"
   ]
  },
  {
   "cell_type": "code",
   "execution_count": null,
   "id": "c903a9c6",
   "metadata": {},
   "outputs": [],
   "source": [
    "# def mad(x): \n",
    "#     return np.nanmedian(abs(x - np.nanmedian(x)))\n",
    "\n",
    "# long = reg_data.Longitude.values\n",
    "# lat = reg_data.Latitude.values\n",
    "# plt.scatter(reg_data.Longitude, reg_data.Latitude, marker=\".\")\n",
    "\n",
    "# plt.xlim(np.nanmedian(long) - 5 * mad(long), np.nanmedian(long) + 5 * mad(long))\n",
    "# plt.ylim(np.nanmedian(lat) - 5 * mad(lat), np.nanmedian(lat) + 5 * mad(lat))\n",
    "\n",
    "# for k, v in practice_field_locations.items():\n",
    "#     print(v)\n",
    "#     plt.scatter(v[1], v[0])"
   ]
  }
 ],
 "metadata": {
  "kernelspec": {
   "display_name": "Python 3 (ipykernel)",
   "language": "python",
   "name": "python3"
  },
  "language_info": {
   "codemirror_mode": {
    "name": "ipython",
    "version": 3
   },
   "file_extension": ".py",
   "mimetype": "text/x-python",
   "name": "python",
   "nbconvert_exporter": "python",
   "pygments_lexer": "ipython3",
   "version": "3.10.4"
  }
 },
 "nbformat": 4,
 "nbformat_minor": 5
}
