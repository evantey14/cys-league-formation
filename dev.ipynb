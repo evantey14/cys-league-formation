{
 "cells": [
  {
   "cell_type": "code",
   "execution_count": null,
   "id": "42056cf0",
   "metadata": {},
   "outputs": [],
   "source": [
    "from dataclasses import asdict, dataclass\n",
    "import random\n",
    "from typing import List, Tuple\n",
    "\n",
    "import pandas as pd\n",
    "import numpy as np\n",
    "import matplotlib.pyplot as plt\n",
    "from tqdm import tqdm\n",
    "\n",
    "from cyslf.optimize import optimize_player_assignment\n",
    "from cyslf.models import Player, Team, League\n",
    "from cyslf.scorers import *\n",
    "from cyslf.utils import practice_fields, max_distance\n",
    "\n",
    "%load_ext autoreload\n",
    "%autoreload 2"
   ]
  },
  {
   "cell_type": "code",
   "execution_count": null,
   "id": "bdc2f5cd",
   "metadata": {},
   "outputs": [],
   "source": [
    "WEEKDAYS = [\"M\", \"T\", \"W\", \"R\", \"F\"]"
   ]
  },
  {
   "cell_type": "code",
   "execution_count": null,
   "id": "08878f80",
   "metadata": {
    "scrolled": true
   },
   "outputs": [],
   "source": [
    "# SET UP LEAGUE WITH TOY DATA\n",
    "random.seed(5)\n",
    "\n",
    "# Find the mean location (for generating fake player data)\n",
    "lats, longs = list(zip(*practice_fields))\n",
    "mean_lat = np.mean(lats)\n",
    "mean_long = np.mean(longs)\n",
    "print(mean_lat, mean_long)\n",
    "\n",
    "players = []\n",
    "for i, letter in enumerate(\"ABCDEFGHIJKLMNOPQ\"):\n",
    "    grade = random.randint(4, 5)\n",
    "    skill = random.randint(1, 5) if i != 0 else 10\n",
    "    location = random.gauss(mean_lat, max_distance/5), random.gauss(mean_long, max_distance/5)\n",
    "    players.append(Player(\n",
    "        id=i,\n",
    "        first_name=letter,\n",
    "        last_name=letter,\n",
    "        grade=grade,\n",
    "        skill=skill,\n",
    "        unavailable_days=random.choice(WEEKDAYS),\n",
    "        location=location,\n",
    "    ))\n",
    "\n",
    "teams=[]\n",
    "for i in range(1, 6):\n",
    "    location = practice_fields[(i-1) % len(practice_fields)]\n",
    "    teams.append(Team(name=str(i), practice_day=WEEKDAYS[i-1], location=location))    \n",
    "\n",
    "# ASSIGN PlAYERS TO TEAMS    \n",
    "league = League(teams=teams)\n",
    "for i, player in enumerate(players[:-2]):\n",
    "    # Optimized assignment\n",
    "    optimize_player_assignment(player, league)\n",
    "    print(\n",
    "        f\"~~~ {score_skill(league):.2f} \"\n",
    "        f\"{score_grade(league):.2f} \"\n",
    "        f\"{score_size(league):.2f} \"\n",
    "        f\"{score_convenience(league):.2f} ~~~\"\n",
    "    )\n",
    "\n",
    "\n",
    "# SHOW RESULTS\n",
    "print(league)\n",
    "for team in league.teams:\n",
    "    if len(team.players) == 0:\n",
    "        continue\n",
    "    lats, longs = list(zip(*[p.location for p in team.players]))\n",
    "    plt.scatter(lats, longs, s=25, label=team.name)\n",
    "    \n",
    "field_lats, field_longs = list(zip(*practice_fields))\n",
    "plt.scatter(field_lats, field_longs, color=\"k\", s=50)\n",
    "plt.legend()"
   ]
  },
  {
   "cell_type": "markdown",
   "id": "2705bc5a",
   "metadata": {},
   "source": [
    "# Run on example data"
   ]
  },
  {
   "cell_type": "code",
   "execution_count": null,
   "id": "fdd933c6",
   "metadata": {
    "scrolled": true
   },
   "outputs": [],
   "source": [
    "# I made this based on the example spreadsheets Jason gave me.\n",
    "# Names didn't match, so I couldn't really join the tables.\n",
    "data = pd.read_csv(\"input - combined.csv\")\n",
    "data.head()"
   ]
  },
  {
   "cell_type": "code",
   "execution_count": null,
   "id": "63fe3f71",
   "metadata": {
    "scrolled": true
   },
   "outputs": [],
   "source": [
    "# Display some summary stats / plots\n",
    "print(\"SKILL\")\n",
    "print(data.skill.value_counts())\n",
    "print()\n",
    "\n",
    "print(\"GRADE\")\n",
    "print(data.grade.value_counts())\n",
    "print()\n",
    "\n",
    "print(\"TEAMS\")\n",
    "print(data.team.value_counts())\n",
    "print()\n",
    "\n",
    "plt.scatter(data.longitude, data.latitude, marker=\".\")\n",
    "\n",
    "sigma = 0.05\n",
    "plt.xlim(data.longitude.median() - sigma, data.longitude.median() + sigma)\n",
    "plt.ylim(data.latitude.median() - sigma, data.latitude.median() + sigma)\n",
    "\n",
    "field_lats, field_longs = list(zip(*practice_fields))\n",
    "plt.scatter(field_longs, field_lats, color=\"r\", s=50)"
   ]
  },
  {
   "cell_type": "code",
   "execution_count": null,
   "id": "941716a7",
   "metadata": {},
   "outputs": [],
   "source": [
    "# SET UP LEAGUE\n",
    "teams = []\n",
    "for i, name in enumerate(data.team.unique()):\n",
    "    if pd.isnull(name):\n",
    "        continue\n",
    "    location = practice_fields[i % len(practice_fields)]\n",
    "    practice_day = WEEKDAYS[i % len(WEEKDAYS)]\n",
    "    teams.append(Team(name=name, practice_day=practice_day, location=location))  \n",
    "teams = sorted(teams, key=lambda t: t.name)\n",
    "league = League(teams=teams)\n",
    "print(league)\n",
    "    \n",
    "players = []\n",
    "for i, row in data.iterrows():\n",
    "    skill = row.skill\n",
    "    if pd.isna(skill) or not skill[0].isdigit():\n",
    "        continue\n",
    "        # Ignore blank, Premier, Kick Start (ask Jason later)\n",
    "    unavailable_days = []\n",
    "    if not pd.isna(row.unavailable_days):\n",
    "        for day in row.unavailable_days.split(\",\"):\n",
    "            clean_day = day.strip()\n",
    "            if clean_day == \"Thursday\":\n",
    "                unavailable_days.append(\"R\")\n",
    "            else:\n",
    "                unavailable_days.append(clean_day[0])\n",
    "\n",
    "    p = Player(\n",
    "        id=i,\n",
    "        first_name=row.first_name,\n",
    "        last_name=row.last_name,\n",
    "        grade=row.grade,\n",
    "        skill=int(skill[0]),\n",
    "        unavailable_days=\"\".join(unavailable_days),\n",
    "        location=(row.latitude, row.longitude)\n",
    "    )\n",
    "    players.append(p)\n",
    "    \n",
    "    # Add player to existing team\n",
    "#     for team in teams:\n",
    "#         if team.name == row.team:\n",
    "#             team.add_player(p)\n",
    "players = sorted(players, key=lambda p: -p.skill)\n",
    "print(league)"
   ]
  },
  {
   "cell_type": "code",
   "execution_count": null,
   "id": "903a5851",
   "metadata": {
    "scrolled": true
   },
   "outputs": [],
   "source": [
    "for i, player in enumerate(players):\n",
    "    # Optimized assignment\n",
    "    optimize_player_assignment(player, league)\n",
    "    print(\n",
    "        f\"{i} / {len(players)} \"\n",
    "        f\"~~~ {score_skill(league):.2f} \"\n",
    "        f\"{score_grade(league):.2f} \"\n",
    "        f\"{score_size(league):.2f} \"\n",
    "        f\"{score_convenience(league):.2f} ~~~\"\n",
    "    )\n",
    "#     print(league)"
   ]
  },
  {
   "cell_type": "code",
   "execution_count": null,
   "id": "6621a1e9",
   "metadata": {},
   "outputs": [],
   "source": [
    "league.to_csv(\"result.csv\")"
   ]
  },
  {
   "cell_type": "code",
   "execution_count": null,
   "id": "860b5e68",
   "metadata": {},
   "outputs": [],
   "source": [
    "# EXISTING TEAM STATS\n",
    "# 18 Teams:\n",
    "# Team Argentina   (F size=14, skill=2.71, grade=3.29)\n",
    "# Team Belgium     (R size=15, skill=3.53, grade=3.67)\n",
    "# Team Brazil      (F size=13, skill=3.23, grade=3.23)\n",
    "# Team England     (W size=14, skill=3.57, grade=3.21)\n",
    "# Team Eritrea     (W size=11, skill=3.00, grade=3.45)\n",
    "# Team Ethiopia    (M size=15, skill=3.47, grade=3.20)\n",
    "# Team Germany     (T size=13, skill=2.92, grade=3.38)\n",
    "# Team Ireland     (M size=15, skill=3.13, grade=3.47)\n",
    "# Team Italy       (M size=15, skill=3.60, grade=3.27)\n",
    "# Team Ivory Coast (M size=12, skill=3.08, grade=3.75)\n",
    "# Team Japan       (R size=14, skill=3.14, grade=3.57)\n",
    "# Team Korea       (F size=11, skill=2.09, grade=3.64)\n",
    "# Team Mexico      (W size=14, skill=3.21, grade=3.29)\n",
    "# Team Netherlands (R size=15, skill=3.00, grade=3.33)\n",
    "# Team Portugal    (T size=14, skill=3.50, grade=3.64)\n",
    "# Team Spain       (T size=12, skill=3.33, grade=3.25)\n",
    "# Team USA         (R size=13, skill=3.23, grade=3.38)\n",
    "# Team Uruguay     (W size=14, skill=3.14, grade=3.36)"
   ]
  }
 ],
 "metadata": {
  "kernelspec": {
   "display_name": "Python 3 (ipykernel)",
   "language": "python",
   "name": "python3"
  },
  "language_info": {
   "codemirror_mode": {
    "name": "ipython",
    "version": 3
   },
   "file_extension": ".py",
   "mimetype": "text/x-python",
   "name": "python",
   "nbconvert_exporter": "python",
   "pygments_lexer": "ipython3",
   "version": "3.10.4"
  }
 },
 "nbformat": 4,
 "nbformat_minor": 5
}
